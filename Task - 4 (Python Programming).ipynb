{
 "cells": [
  {
   "cell_type": "markdown",
   "metadata": {},
   "source": [
    "### Q1 sWAP cASE"
   ]
  },
  {
   "cell_type": "code",
   "execution_count": 1,
   "metadata": {},
   "outputs": [
    {
     "name": "stdout",
     "output_type": "stream",
     "text": [
      "HackerRank.com presents \"Pythonist 2\".\n",
      "hACKERrANK.COM PRESENTS \"pYTHONIST 2\".\n"
     ]
    }
   ],
   "source": [
    "def swap_case(s):\n",
    "    Output = '';\n",
    "    for char in s:\n",
    "        if(char.isupper()==True):\n",
    "            Output += (char.lower());\n",
    "        elif(char.islower()==True):\n",
    "            Output += (char.upper());\n",
    "        else:\n",
    "            Output += char;\n",
    "    return Output;\n",
    "if __name__ == '__main__':\n",
    "    s = input()\n",
    "    result = swap_case(s)\n",
    "    print(result)"
   ]
  },
  {
   "cell_type": "markdown",
   "metadata": {},
   "source": [
    "### Q2 String Split and Join"
   ]
  },
  {
   "cell_type": "code",
   "execution_count": 3,
   "metadata": {},
   "outputs": [
    {
     "name": "stdout",
     "output_type": "stream",
     "text": [
      "this is a string \n",
      "this-is-a-string-\n"
     ]
    }
   ],
   "source": [
    "def split_and_join(line):\n",
    "    # write your code here\n",
    "    a = line.split(\" \")\n",
    "    a = \"-\".join(a)\n",
    "    return a\n",
    "if __name__ == '__main__':\n",
    "    line = input()\n",
    "    result = split_and_join(line)\n",
    "    print(result)"
   ]
  },
  {
   "cell_type": "markdown",
   "metadata": {},
   "source": [
    "### Q3 What's Your Name?"
   ]
  },
  {
   "cell_type": "code",
   "execution_count": 4,
   "metadata": {},
   "outputs": [
    {
     "name": "stdout",
     "output_type": "stream",
     "text": [
      "shaik \n",
      "haneef\n",
      "Hello shaik  haneef! You just delved into python.\n"
     ]
    }
   ],
   "source": [
    "def print_full_name(first, last):\n",
    "    # Write your code here\n",
    "    last = last+\"!\"\n",
    "    print(\"Hello\",first,last,\"You just delved into python.\");\n",
    "\n",
    "if __name__ == '__main__':\n",
    "    first_name = input()\n",
    "    last_name = input()\n",
    "    print_full_name(first_name, last_name)"
   ]
  },
  {
   "cell_type": "markdown",
   "metadata": {},
   "source": [
    "### Q4 Mutations"
   ]
  },
  {
   "cell_type": "code",
   "execution_count": 5,
   "metadata": {},
   "outputs": [
    {
     "name": "stdout",
     "output_type": "stream",
     "text": [
      "abracadabra\n",
      "5 k\n",
      "abrackdabra\n"
     ]
    }
   ],
   "source": [
    "def mutate_string(string, position, character):\n",
    "    l = list(string)\n",
    "    l[position] = character;\n",
    "    string = ''.join(l);\n",
    "    return string\n",
    "if __name__ == '__main__':\n",
    "    s = input()\n",
    "    i, c = input().split()\n",
    "    s_new = mutate_string(s, int(i), c)\n",
    "    print(s_new)"
   ]
  },
  {
   "cell_type": "markdown",
   "metadata": {},
   "source": [
    "### Q5 Find a string"
   ]
  },
  {
   "cell_type": "code",
   "execution_count": 11,
   "metadata": {},
   "outputs": [
    {
     "name": "stdout",
     "output_type": "stream",
     "text": [
      "ABCBCBC\n",
      "CBC\n",
      "2\n"
     ]
    }
   ],
   "source": [
    "def count_substring(string, sub_string):\n",
    "    count = 0\n",
    "    for i in range(len(string)-len(sub_string)+1):\n",
    "        if (string[i:i+len(sub_string)] == sub_string):\n",
    "            count += 1\n",
    "    return count\n",
    "if __name__ == '__main__':\n",
    "    string = input().strip()\n",
    "    sub_string = input().strip()\n",
    "    \n",
    "    count = count_substring(string, sub_string)\n",
    "    print(count)"
   ]
  },
  {
   "cell_type": "markdown",
   "metadata": {},
   "source": [
    "### Q6 String Validators"
   ]
  },
  {
   "cell_type": "code",
   "execution_count": 12,
   "metadata": {},
   "outputs": [
    {
     "name": "stdout",
     "output_type": "stream",
     "text": [
      "qA2\n",
      "True\n",
      "True\n",
      "True\n",
      "True\n",
      "True\n"
     ]
    }
   ],
   "source": [
    "S = input()\n",
    "print(any(char.isalnum() for char in S))\n",
    "print(any(char.isalpha() for char in S))\n",
    "print(any(char.isdigit() for char in S))\n",
    "print(any(char.islower() for char in S))\n",
    "print(any(char.isupper() for char in S))"
   ]
  },
  {
   "cell_type": "markdown",
   "metadata": {},
   "source": [
    "### Q7 Text Alignment"
   ]
  },
  {
   "cell_type": "code",
   "execution_count": 16,
   "metadata": {},
   "outputs": [
    {
     "name": "stdout",
     "output_type": "stream",
     "text": [
      "6\n",
      "     H     \n",
      "    HHH    \n",
      "   HHHHH   \n",
      "  HHHHHHH  \n",
      " HHHHHHHHH \n",
      "HHHHHHHHHHH\n",
      "   HHHHHH                  HHHHHH               \n",
      "   HHHHHH                  HHHHHH               \n",
      "   HHHHHH                  HHHHHH               \n",
      "   HHHHHH                  HHHHHH               \n",
      "   HHHHHH                  HHHHHH               \n",
      "   HHHHHH                  HHHHHH               \n",
      "   HHHHHH                  HHHHHH               \n",
      "   HHHHHHHHHHHHHHHHHHHHHHHHHHHHHH   \n",
      "   HHHHHHHHHHHHHHHHHHHHHHHHHHHHHH   \n",
      "   HHHHHHHHHHHHHHHHHHHHHHHHHHHHHH   \n",
      "   HHHHHH                  HHHHHH               \n",
      "   HHHHHH                  HHHHHH               \n",
      "   HHHHHH                  HHHHHH               \n",
      "   HHHHHH                  HHHHHH               \n",
      "   HHHHHH                  HHHHHH               \n",
      "   HHHHHH                  HHHHHH               \n",
      "   HHHHHH                  HHHHHH               \n",
      "                        HHHHHHHHHHH \n",
      "                         HHHHHHHHH  \n",
      "                          HHHHHHH   \n",
      "                           HHHHH    \n",
      "                            HHH     \n",
      "                             H      \n"
     ]
    }
   ],
   "source": [
    "#Replace all ______ with rjust, ljust or center. \n",
    "\n",
    "thickness = int(input()) #This must be an odd number\n",
    "c = 'H'\n",
    "\n",
    "#Top Cone\n",
    "# replace  ______ To rjust |  ______ To  ljust\n",
    "for i in range(thickness):\n",
    "    print((c*i).rjust(thickness-1)+c+(c*i).ljust(thickness-1))\n",
    "\n",
    "#Top Pillars\n",
    "# replace ______ To center |  ______ To center\n",
    "for i in range(thickness+1):\n",
    "    print((c*thickness).center(thickness*2)+(c*thickness).center(thickness*6))\n",
    "\n",
    "#Middle Belt\n",
    "# replace ______ To center\n",
    "for i in range((thickness+1)//2):\n",
    "    print((c*thickness*5).center(thickness*6))    \n",
    "\n",
    "#Bottom Pillars\n",
    "# replace ______ To center |  ______ To center\n",
    "for i in range(thickness+1):\n",
    "    print((c*thickness).center(thickness*2)+(c*thickness).center(thickness*6))    \n",
    "\n",
    "#Bottom Cone\n",
    "# replace ______ To rjust |  ______ To ljust |  ______ To rjust\n",
    "for i in range(thickness):\n",
    "    print(((c*(thickness-i-1)).rjust(thickness)+c+(c*(thickness-i-1)).ljust(thickness)).rjust(thickness*6))"
   ]
  },
  {
   "cell_type": "markdown",
   "metadata": {},
   "source": [
    "### Q8 Text Wrap"
   ]
  },
  {
   "cell_type": "code",
   "execution_count": 17,
   "metadata": {},
   "outputs": [
    {
     "name": "stdout",
     "output_type": "stream",
     "text": [
      "ABCDEFGHIJKLIMNOQRSTUVWXYZ\n",
      "4\n",
      "ABCD\n",
      "EFGH\n",
      "IJKL\n",
      "IMNO\n",
      "QRST\n",
      "UVWX\n",
      "YZ\n"
     ]
    }
   ],
   "source": [
    "import textwrap\n",
    "\n",
    "def wrap(string, max_width):\n",
    "    return textwrap.fill(string,max_width)\n",
    "\n",
    "if __name__ == '__main__':\n",
    "    string, max_width = input(), int(input())\n",
    "    result = wrap(string, max_width)\n",
    "    print(result)"
   ]
  },
  {
   "cell_type": "markdown",
   "metadata": {},
   "source": [
    "### Q9 Designer Door Mat"
   ]
  },
  {
   "cell_type": "code",
   "execution_count": 18,
   "metadata": {},
   "outputs": [
    {
     "name": "stdout",
     "output_type": "stream",
     "text": [
      "10 25\n",
      "-----------.|.-----------\n",
      "--------.|..|..|.--------\n",
      "-----.|..|..|..|..|.-----\n",
      "--.|..|..|..|..|..|..|.--\n",
      ".|..|..|..|..|..|..|..|..|.\n",
      "---------WELCOME---------\n",
      "-.|..|..|..|..|..|..|..|.\n",
      "----.|..|..|..|..|..|.---\n",
      "-------.|..|..|..|.------\n",
      "----------.|..|.---------\n",
      "-------------------------\n"
     ]
    }
   ],
   "source": [
    "N, M = map(int, input().split())\n",
    "for i in range(1, N, 2):\n",
    "    print(str('.|.' * i).center(M, '-'))\n",
    "print('WELCOME'.center(M, '-'))\n",
    "for i in range(N-2, -1, -2):\n",
    "    print(str('.|.' * i).center(M, '-'))"
   ]
  },
  {
   "cell_type": "markdown",
   "metadata": {},
   "source": [
    "### Q10 String Formatting"
   ]
  },
  {
   "cell_type": "code",
   "execution_count": 19,
   "metadata": {},
   "outputs": [
    {
     "name": "stdout",
     "output_type": "stream",
     "text": [
      "17\n",
      "    1     1     1     1\n",
      "    2     2     2    10\n",
      "    3     3     3    11\n",
      "    4     4     4   100\n",
      "    5     5     5   101\n",
      "    6     6     6   110\n",
      "    7     7     7   111\n",
      "    8    10     8  1000\n",
      "    9    11     9  1001\n",
      "   10    12     A  1010\n",
      "   11    13     B  1011\n",
      "   12    14     C  1100\n",
      "   13    15     D  1101\n",
      "   14    16     E  1110\n",
      "   15    17     F  1111\n",
      "   16    20    10 10000\n",
      "   17    21    11 10001\n"
     ]
    }
   ],
   "source": [
    "def print_formatted(number):\n",
    "    # your code goes here\n",
    "    width = len(bin(number)[2:])\n",
    "    for i in range(1, number+1):\n",
    "        deci = str(i)\n",
    "        octa = oct(i)[2:]\n",
    "        hexa = hex(i)[2:].upper()\n",
    "        bina = bin(i)[2:]\n",
    "\n",
    "        print(deci.rjust(width),octa.rjust(width),hexa.rjust(width),bina.rjust(width))\n",
    "\n",
    "\n",
    "if __name__ == '__main__':\n",
    "    n = int(input())\n",
    "    print_formatted(n)"
   ]
  },
  {
   "cell_type": "markdown",
   "metadata": {},
   "source": [
    "### Q11 Alphabet Rangoli"
   ]
  },
  {
   "cell_type": "code",
   "execution_count": 20,
   "metadata": {},
   "outputs": [
    {
     "name": "stdout",
     "output_type": "stream",
     "text": [
      "5\n",
      "--------e--------\n",
      "------e-d-e------\n",
      "----e-d-c-d-e----\n",
      "--e-d-c-b-c-d-e--\n",
      "e-d-c-b-a-b-c-d-e\n",
      "--e-d-c-b-c-d-e--\n",
      "----e-d-c-d-e----\n",
      "------e-d-e------\n",
      "--------e--------\n"
     ]
    }
   ],
   "source": [
    "def print_rangoli(size):\n",
    "    # your code goes here\n",
    "    width  = size*4-3\n",
    "    string = ''\n",
    "\n",
    "    for i in range(1,size+1):\n",
    "        for j in range(0,i):\n",
    "            string += chr(96+size-j)\n",
    "            if len(string) < width :\n",
    "                string += '-'\n",
    "        for k in range(i-1,0,-1):    \n",
    "            string += chr(97+size-k)\n",
    "            if len(string) < width :\n",
    "                string += '-'\n",
    "        print(string.center(width,'-'))\n",
    "        string = ''\n",
    "\n",
    "    for i in range(size-1,0,-1):\n",
    "        string = ''\n",
    "        for j in range(0,i):\n",
    "            string += chr(96+size-j)\n",
    "            if len(string) < width :\n",
    "                string += '-'\n",
    "        for k in range(i-1,0,-1):\n",
    "            string += chr(97+size-k)\n",
    "            if len(string) < width :\n",
    "                string += '-'\n",
    "        print(string.center(width,'-'))\n",
    "\n",
    "if __name__ == '__main__':\n",
    "    n = int(input())\n",
    "    print_rangoli(n)"
   ]
  },
  {
   "cell_type": "markdown",
   "metadata": {},
   "source": [
    "### Q12 Capitalize!"
   ]
  },
  {
   "cell_type": "code",
   "execution_count": null,
   "metadata": {},
   "outputs": [],
   "source": [
    "import math\n",
    "import os\n",
    "import random\n",
    "import re\n",
    "import sys\n",
    "\n",
    "# Complete the solve function below.\n",
    "def solve(s):\n",
    "    words = s.split(\" \")\n",
    "    capitalized_words = [w.capitalize() for w in words]\n",
    "    return \" \".join(capitalized_words)\n",
    "\n",
    "if __name__ == '__main__':\n",
    "    fptr = open(os.environ['OUTPUT_PATH'], 'w')\n",
    "\n",
    "    s = input()\n",
    "\n",
    "    result = solve(s)\n",
    "\n",
    "    fptr.write(result + '\\n')\n",
    "\n",
    "    fptr.close()"
   ]
  },
  {
   "cell_type": "markdown",
   "metadata": {},
   "source": [
    "### Q13 The Minion Game"
   ]
  },
  {
   "cell_type": "code",
   "execution_count": 23,
   "metadata": {},
   "outputs": [
    {
     "name": "stdout",
     "output_type": "stream",
     "text": [
      "BANANA\n",
      "Stuart 12\n"
     ]
    }
   ],
   "source": [
    "def minion_game(string):\n",
    "    # your code goes here\n",
    "    player1 = 0;\n",
    "    player2 = 0;\n",
    "    str_len = len(string)\n",
    "    for i in range(str_len):\n",
    "        if s[i] in \"AEIOU\":\n",
    "            player1 += (str_len)-i\n",
    "        else :\n",
    "            player2 += (str_len)-i\n",
    "    \n",
    "    if player1 > player2:\n",
    "        print(\"Kevin\", player1)\n",
    "    elif player1 < player2:\n",
    "        print(\"Stuart\",player2)\n",
    "    elif player1 == player2:\n",
    "        print(\"Draw\")\n",
    "    else :\n",
    "        print(\"Draw\")\n",
    "if __name__ == '__main__':\n",
    "    s = input()\n",
    "    minion_game(s)"
   ]
  },
  {
   "cell_type": "markdown",
   "metadata": {},
   "source": [
    "### Q14 Merge the Tools!"
   ]
  },
  {
   "cell_type": "code",
   "execution_count": 25,
   "metadata": {},
   "outputs": [
    {
     "name": "stdout",
     "output_type": "stream",
     "text": [
      "AABCAAADA\n",
      "3\n",
      "AB\n",
      "CA\n",
      "AD\n"
     ]
    }
   ],
   "source": [
    "from collections import OrderedDict\n",
    "def merge_the_tools(string, k):\n",
    "    # your code goes here\n",
    "    strlen = len(string)\n",
    "    for i in range(0,strlen,k):\n",
    "        print(''.join(OrderedDict.fromkeys(string[i:i + k])))\n",
    "\n",
    "if __name__ == '__main__':\n",
    "    string, k = input(), int(input())\n",
    "    merge_the_tools(string, k)"
   ]
  },
  {
   "cell_type": "code",
   "execution_count": null,
   "metadata": {},
   "outputs": [],
   "source": []
  }
 ],
 "metadata": {
  "kernelspec": {
   "display_name": "Python 3",
   "language": "python",
   "name": "python3"
  },
  "language_info": {
   "codemirror_mode": {
    "name": "ipython",
    "version": 3
   },
   "file_extension": ".py",
   "mimetype": "text/x-python",
   "name": "python",
   "nbconvert_exporter": "python",
   "pygments_lexer": "ipython3",
   "version": "3.8.5"
  }
 },
 "nbformat": 4,
 "nbformat_minor": 4
}
